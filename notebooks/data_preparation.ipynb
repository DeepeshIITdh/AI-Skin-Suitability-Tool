{
 "cells": [
  {
   "cell_type": "code",
   "execution_count": null,
   "id": "0",
   "metadata": {},
   "outputs": [],
   "source": [
    "import pandas as pd\n",
    "import numpy as np\n",
    "import os \n",
    "import warnings\n",
    "warnings.filterwarnings('ignore')\n",
    "\n",
    "from dotenv import load_dotenv\n",
    "load_dotenv()\n",
    "FOLDER_PATH = os.getenv(\"FOLDER_PATH\")\n",
    "\n",
    "if not FOLDER_PATH:\n",
    "    raise ValueError(\"FOLDER_PATH not set in .env file!\")"
   ]
  },
  {
   "cell_type": "code",
   "execution_count": null,
   "id": "1",
   "metadata": {},
   "outputs": [],
   "source": [
    "df = pd.read_csv(os.path.join(FOLDER_PATH, \"data\", \"products_and_ingredients.csv\")).iloc[:, 1:]\n",
    "print(df.shape)\n",
    "print(df.columns)\n",
    "df.head()"
   ]
  },
  {
   "cell_type": "code",
   "execution_count": null,
   "id": "2",
   "metadata": {},
   "outputs": [],
   "source": [
    "def column_summary(df):\n",
    "    \n",
    "    summary_df = pd.DataFrame({\n",
    "        'col_name' : df.columns,\n",
    "        'col_dtype' : df.dtypes.values,\n",
    "        'num_of_nulls' : df.isnull().sum().values,\n",
    "        'null%' : round((df.isnull().sum()/df.shape[0])*100, 2).values,\n",
    "        'num_of_non_nulls' : df.count().values,\n",
    "        'num_of_distinct_values' : df.nunique().values\n",
    "    })\n",
    "    \n",
    "    ## extracting distinct_values_counts for summary_df\n",
    "    distinct_values_counts = []\n",
    "    for i in range(df.shape[1]):\n",
    "        if summary_df['num_of_distinct_values'][i]<=10:\n",
    "            distinct_values_counts.append(dict(zip(df[df.columns[i]].value_counts().index.to_list(),df[df.columns[i]].value_counts().values)))\n",
    "        else:\n",
    "            distinct_values_counts.append(dict(zip(df[df.columns[i]].value_counts().index.to_list()[:10],df[df.columns[i]].value_counts().values[:10])))\n",
    "            \n",
    "    summary_df['distinct_values_counts'] = distinct_values_counts\n",
    "    \n",
    "    return summary_df"
   ]
  },
  {
   "cell_type": "code",
   "execution_count": null,
   "id": "3",
   "metadata": {},
   "outputs": [],
   "source": [
    "column_summary(df)"
   ]
  },
  {
   "cell_type": "code",
   "execution_count": null,
   "id": "4",
   "metadata": {},
   "outputs": [],
   "source": [
    "df.duplicated().sum()"
   ]
  },
  {
   "cell_type": "markdown",
   "id": "5",
   "metadata": {},
   "source": [
    "### Data Cleaning :"
   ]
  },
  {
   "cell_type": "code",
   "execution_count": null,
   "id": "6",
   "metadata": {},
   "outputs": [],
   "source": [
    "df['skin_profile'] = (df['skin_type'].astype(str).replace('nan', '') +' concerns: '+ df['concerns'].astype(str).replace('nan', '')).replace(' concerns: ', np.nan)\n",
    "df.drop(['skin_type', 'concerns'], axis=1, inplace=True)"
   ]
  },
  {
   "cell_type": "markdown",
   "id": "7",
   "metadata": {},
   "source": [
    "### Separating Products and Ingredients Data :"
   ]
  },
  {
   "cell_type": "code",
   "execution_count": null,
   "id": "8",
   "metadata": {},
   "outputs": [],
   "source": [
    "df.head()"
   ]
  },
  {
   "cell_type": "code",
   "execution_count": null,
   "id": "9",
   "metadata": {},
   "outputs": [],
   "source": [
    "import re\n",
    "def clean_text(text):\n",
    "    if not isinstance(text, str):\n",
    "        return \"\"\n",
    "    return re.sub(r'[^a-z0-9\\s]', '', text.lower().strip())"
   ]
  },
  {
   "cell_type": "code",
   "execution_count": null,
   "id": "10",
   "metadata": {},
   "outputs": [],
   "source": [
    "df['prod_descrp'] = df['brand_name'].apply(clean_text) +' '+ df['prod_name'].apply(clean_text)\n",
    "df.columns"
   ]
  },
  {
   "cell_type": "code",
   "execution_count": null,
   "id": "11",
   "metadata": {},
   "outputs": [],
   "source": [
    "df['list_of_ingreds'] = df['ingreds'].str.split(\", \")"
   ]
  },
  {
   "cell_type": "code",
   "execution_count": null,
   "id": "12",
   "metadata": {},
   "outputs": [],
   "source": [
    "ingreds_data = df.explode('list_of_ingreds').rename(columns={'list_of_ingreds': 'ingred_name'})[['ingred_name', 'ratingscore', 'skin_profile']].sample(113224).reset_index(drop=True)"
   ]
  },
  {
   "cell_type": "code",
   "execution_count": null,
   "id": "13",
   "metadata": {},
   "outputs": [],
   "source": [
    "prods_data = df[['brand_name', 'prod_name', 'prod_descrp', 'list_of_ingreds']]"
   ]
  },
  {
   "cell_type": "code",
   "execution_count": null,
   "id": "14",
   "metadata": {},
   "outputs": [],
   "source": [
    "prods_data['list_of_ingreds'] = prods_data['list_of_ingreds'].apply(lambda x: x.replace('[', '').replace(']', ''))\n",
    "prods_data['list_of_ingreds'] = prods_data['list_of_ingreds'].apply(lambda x: x.replace(\"'\", \"\"))"
   ]
  },
  {
   "cell_type": "code",
   "execution_count": null,
   "id": "15",
   "metadata": {},
   "outputs": [],
   "source": [
    "ingreds_data.to_csv(os.path.join(FOLDER_PATH, 'data', 'ingredients_data.csv'), index=False)\n",
    "prods_data.to_csv(os.path.join(FOLDER_PATH, 'data', 'products_data.csv'), index=False)"
   ]
  },
  {
   "cell_type": "code",
   "execution_count": null,
   "id": "16",
   "metadata": {},
   "outputs": [],
   "source": []
  }
 ],
 "metadata": {
  "kernelspec": {
   "display_name": "SkinCare Match Finder",
   "language": "python",
   "name": "python3"
  },
  "language_info": {
   "codemirror_mode": {
    "name": "ipython",
    "version": 3
   },
   "file_extension": ".py",
   "mimetype": "text/x-python",
   "name": "python",
   "nbconvert_exporter": "python",
   "pygments_lexer": "ipython3",
   "version": "3.10.7"
  }
 },
 "nbformat": 4,
 "nbformat_minor": 5
}
