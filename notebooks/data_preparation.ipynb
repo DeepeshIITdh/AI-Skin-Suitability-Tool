{
 "cells": [
  {
   "cell_type": "code",
   "execution_count": null,
   "id": "954f8348",
   "metadata": {},
   "outputs": [],
   "source": [
    "import pandas as pd\n",
    "import numpy as np\n",
    "import os \n",
    "import warnings\n",
    "warnings.filterwarnings('ignore')\n",
    "\n",
    "from dotenv import load_dotenv\n",
    "load_dotenv()\n",
    "FOLDER_PATH = os.getenv(\"FOLDER_PATH\")\n",
    "\n",
    "if not FOLDER_PATH:\n",
    "    raise ValueError(\"FOLDER_PATH not set in .env file!\")"
   ]
  },
  {
   "cell_type": "code",
   "execution_count": 2,
   "id": "ec2835fd",
   "metadata": {},
   "outputs": [
    {
     "name": "stdout",
     "output_type": "stream",
     "text": [
      "(3549, 6)\n",
      "Index(['prod_name', 'brand_name', 'ingreds', 'ratingscore', 'skin_type',\n",
      "       'concerns'],\n",
      "      dtype='object')\n"
     ]
    },
    {
     "data": {
      "text/html": [
       "<div>\n",
       "<style scoped>\n",
       "    .dataframe tbody tr th:only-of-type {\n",
       "        vertical-align: middle;\n",
       "    }\n",
       "\n",
       "    .dataframe tbody tr th {\n",
       "        vertical-align: top;\n",
       "    }\n",
       "\n",
       "    .dataframe thead th {\n",
       "        text-align: right;\n",
       "    }\n",
       "</style>\n",
       "<table border=\"1\" class=\"dataframe\">\n",
       "  <thead>\n",
       "    <tr style=\"text-align: right;\">\n",
       "      <th></th>\n",
       "      <th>prod_name</th>\n",
       "      <th>brand_name</th>\n",
       "      <th>ingreds</th>\n",
       "      <th>ratingscore</th>\n",
       "      <th>skin_type</th>\n",
       "      <th>concerns</th>\n",
       "    </tr>\n",
       "  </thead>\n",
       "  <tbody>\n",
       "    <tr>\n",
       "      <th>0</th>\n",
       "      <td>Lip Butter Balm for Hydration &amp; Shine</td>\n",
       "      <td>Summer Fridays</td>\n",
       "      <td>Phytosteryl/Behenyl Dimer Dilinoleate, Diisost...</td>\n",
       "      <td>4.4</td>\n",
       "      <td>NaN</td>\n",
       "      <td>Dryness and Dullness</td>\n",
       "    </tr>\n",
       "    <tr>\n",
       "      <th>1</th>\n",
       "      <td>Watermelon Glow PHA + BHA Pore-Tight Toner</td>\n",
       "      <td>Glow Recipe</td>\n",
       "      <td>Opuntia Ficus-Indica Stem Extract, Citrullus L...</td>\n",
       "      <td>4.3</td>\n",
       "      <td>Normal Dry Combination Oily</td>\n",
       "      <td>Pores, Dryness, and Dullness</td>\n",
       "    </tr>\n",
       "    <tr>\n",
       "      <th>2</th>\n",
       "      <td>Power Mist Hydrating Hand Sanitizer</td>\n",
       "      <td>Touchland</td>\n",
       "      <td>Alcohol, Deionized/Demineralized Water, Aloe B...</td>\n",
       "      <td>4.2</td>\n",
       "      <td>NaN</td>\n",
       "      <td>NaN</td>\n",
       "    </tr>\n",
       "    <tr>\n",
       "      <th>3</th>\n",
       "      <td>Hyaluronic Acid 2% + B5 Hydrating Serum</td>\n",
       "      <td>The Ordinary</td>\n",
       "      <td>Aqua/Water/Eau, Hydrolyzed Sodium Hyaluronate,...</td>\n",
       "      <td>4.5</td>\n",
       "      <td>Normal Dry Combination Oily</td>\n",
       "      <td>Dryness</td>\n",
       "    </tr>\n",
       "    <tr>\n",
       "      <th>4</th>\n",
       "      <td>Lip Sleeping Mask Intense Hydration with Vitam...</td>\n",
       "      <td>LANEIGE</td>\n",
       "      <td>Diisostearyl Malate, Hydrogenated Polyisobuten...</td>\n",
       "      <td>4.3</td>\n",
       "      <td>Normal Dry Combination Oily</td>\n",
       "      <td>Fine Lines/Wrinkles, Dryness, and Dullness</td>\n",
       "    </tr>\n",
       "  </tbody>\n",
       "</table>\n",
       "</div>"
      ],
      "text/plain": [
       "                                           prod_name      brand_name  \\\n",
       "0              Lip Butter Balm for Hydration & Shine  Summer Fridays   \n",
       "1         Watermelon Glow PHA + BHA Pore-Tight Toner     Glow Recipe   \n",
       "2                Power Mist Hydrating Hand Sanitizer       Touchland   \n",
       "3            Hyaluronic Acid 2% + B5 Hydrating Serum    The Ordinary   \n",
       "4  Lip Sleeping Mask Intense Hydration with Vitam...         LANEIGE   \n",
       "\n",
       "                                             ingreds  ratingscore  \\\n",
       "0  Phytosteryl/Behenyl Dimer Dilinoleate, Diisost...          4.4   \n",
       "1  Opuntia Ficus-Indica Stem Extract, Citrullus L...          4.3   \n",
       "2  Alcohol, Deionized/Demineralized Water, Aloe B...          4.2   \n",
       "3  Aqua/Water/Eau, Hydrolyzed Sodium Hyaluronate,...          4.5   \n",
       "4  Diisostearyl Malate, Hydrogenated Polyisobuten...          4.3   \n",
       "\n",
       "                     skin_type                                    concerns  \n",
       "0                          NaN                        Dryness and Dullness  \n",
       "1  Normal Dry Combination Oily                Pores, Dryness, and Dullness  \n",
       "2                          NaN                                         NaN  \n",
       "3  Normal Dry Combination Oily                                     Dryness  \n",
       "4  Normal Dry Combination Oily  Fine Lines/Wrinkles, Dryness, and Dullness  "
      ]
     },
     "execution_count": 2,
     "metadata": {},
     "output_type": "execute_result"
    }
   ],
   "source": [
    "df = pd.read_csv(os.path.join(FOLDER_PATH, \"data\", \"products_and_ingredients.csv\")).iloc[:, 1:]\n",
    "print(df.shape)\n",
    "print(df.columns)\n",
    "df.head()"
   ]
  },
  {
   "cell_type": "code",
   "execution_count": 5,
   "id": "d501da10",
   "metadata": {},
   "outputs": [],
   "source": [
    "def column_summary(df):\n",
    "    \n",
    "    summary_df = pd.DataFrame({\n",
    "        'col_name' : df.columns,\n",
    "        'col_dtype' : df.dtypes.values,\n",
    "        'num_of_nulls' : df.isnull().sum().values,\n",
    "        'null%' : round((df.isnull().sum()/df.shape[0])*100, 2).values,\n",
    "        'num_of_non_nulls' : df.count().values,\n",
    "        'num_of_distinct_values' : df.nunique().values\n",
    "    })\n",
    "    \n",
    "    ## extracting distinct_values_counts for summary_df\n",
    "    distinct_values_counts = []\n",
    "    for i in range(df.shape[1]):\n",
    "        if summary_df['num_of_distinct_values'][i]<=10:\n",
    "            distinct_values_counts.append(dict(zip(df[df.columns[i]].value_counts().index.to_list(),df[df.columns[i]].value_counts().values)))\n",
    "        else:\n",
    "            distinct_values_counts.append(dict(zip(df[df.columns[i]].value_counts().index.to_list()[:10],df[df.columns[i]].value_counts().values[:10])))\n",
    "            \n",
    "    summary_df['distinct_values_counts'] = distinct_values_counts\n",
    "    \n",
    "    return summary_df"
   ]
  },
  {
   "cell_type": "code",
   "execution_count": 43,
   "id": "462b9c7d",
   "metadata": {},
   "outputs": [
    {
     "data": {
      "text/html": [
       "<div>\n",
       "<style scoped>\n",
       "    .dataframe tbody tr th:only-of-type {\n",
       "        vertical-align: middle;\n",
       "    }\n",
       "\n",
       "    .dataframe tbody tr th {\n",
       "        vertical-align: top;\n",
       "    }\n",
       "\n",
       "    .dataframe thead th {\n",
       "        text-align: right;\n",
       "    }\n",
       "</style>\n",
       "<table border=\"1\" class=\"dataframe\">\n",
       "  <thead>\n",
       "    <tr style=\"text-align: right;\">\n",
       "      <th></th>\n",
       "      <th>col_name</th>\n",
       "      <th>col_dtype</th>\n",
       "      <th>num_of_nulls</th>\n",
       "      <th>null%</th>\n",
       "      <th>num_of_non_nulls</th>\n",
       "      <th>num_of_distinct_values</th>\n",
       "      <th>distinct_values_counts</th>\n",
       "    </tr>\n",
       "  </thead>\n",
       "  <tbody>\n",
       "    <tr>\n",
       "      <th>0</th>\n",
       "      <td>Unnamed: 0</td>\n",
       "      <td>int64</td>\n",
       "      <td>0</td>\n",
       "      <td>0.00</td>\n",
       "      <td>3549</td>\n",
       "      <td>3549</td>\n",
       "      <td>{3548: 1, 0: 1, 1: 1, 2: 1, 3: 1, 4: 1, 5: 1, ...</td>\n",
       "    </tr>\n",
       "    <tr>\n",
       "      <th>1</th>\n",
       "      <td>prod_name</td>\n",
       "      <td>object</td>\n",
       "      <td>0</td>\n",
       "      <td>0.00</td>\n",
       "      <td>3549</td>\n",
       "      <td>3368</td>\n",
       "      <td>{'The Lifting and Firming Mask': 2, 'Cucumber ...</td>\n",
       "    </tr>\n",
       "    <tr>\n",
       "      <th>2</th>\n",
       "      <td>brand_name</td>\n",
       "      <td>object</td>\n",
       "      <td>0</td>\n",
       "      <td>0.00</td>\n",
       "      <td>3549</td>\n",
       "      <td>279</td>\n",
       "      <td>{'CLINIQUE': 166, 'SEPHORA COLLECTION': 108, '...</td>\n",
       "    </tr>\n",
       "    <tr>\n",
       "      <th>3</th>\n",
       "      <td>ingreds</td>\n",
       "      <td>object</td>\n",
       "      <td>0</td>\n",
       "      <td>0.00</td>\n",
       "      <td>3549</td>\n",
       "      <td>3188</td>\n",
       "      <td>{'No Info': 23, 'Visit the Dior boutique': 18,...</td>\n",
       "    </tr>\n",
       "    <tr>\n",
       "      <th>4</th>\n",
       "      <td>ratingscore</td>\n",
       "      <td>float64</td>\n",
       "      <td>0</td>\n",
       "      <td>0.00</td>\n",
       "      <td>3549</td>\n",
       "      <td>35</td>\n",
       "      <td>{4.4: 422, 4.3: 392, 4.5: 366, 4.2: 328, 4.6: ...</td>\n",
       "    </tr>\n",
       "    <tr>\n",
       "      <th>5</th>\n",
       "      <td>skin_type</td>\n",
       "      <td>object</td>\n",
       "      <td>1102</td>\n",
       "      <td>31.05</td>\n",
       "      <td>2447</td>\n",
       "      <td>31</td>\n",
       "      <td>{'Normal Dry Combination Oily': 1256, 'Normal ...</td>\n",
       "    </tr>\n",
       "    <tr>\n",
       "      <th>6</th>\n",
       "      <td>concerns</td>\n",
       "      <td>object</td>\n",
       "      <td>2121</td>\n",
       "      <td>59.76</td>\n",
       "      <td>1428</td>\n",
       "      <td>388</td>\n",
       "      <td>{'Fine Lines and Wrinkles, Dryness, and Loss o...</td>\n",
       "    </tr>\n",
       "  </tbody>\n",
       "</table>\n",
       "</div>"
      ],
      "text/plain": [
       "      col_name col_dtype  num_of_nulls  null%  num_of_non_nulls  \\\n",
       "0   Unnamed: 0     int64             0   0.00              3549   \n",
       "1    prod_name    object             0   0.00              3549   \n",
       "2   brand_name    object             0   0.00              3549   \n",
       "3      ingreds    object             0   0.00              3549   \n",
       "4  ratingscore   float64             0   0.00              3549   \n",
       "5    skin_type    object          1102  31.05              2447   \n",
       "6     concerns    object          2121  59.76              1428   \n",
       "\n",
       "   num_of_distinct_values                             distinct_values_counts  \n",
       "0                    3549  {3548: 1, 0: 1, 1: 1, 2: 1, 3: 1, 4: 1, 5: 1, ...  \n",
       "1                    3368  {'The Lifting and Firming Mask': 2, 'Cucumber ...  \n",
       "2                     279  {'CLINIQUE': 166, 'SEPHORA COLLECTION': 108, '...  \n",
       "3                    3188  {'No Info': 23, 'Visit the Dior boutique': 18,...  \n",
       "4                      35  {4.4: 422, 4.3: 392, 4.5: 366, 4.2: 328, 4.6: ...  \n",
       "5                      31  {'Normal Dry Combination Oily': 1256, 'Normal ...  \n",
       "6                     388  {'Fine Lines and Wrinkles, Dryness, and Loss o...  "
      ]
     },
     "execution_count": 43,
     "metadata": {},
     "output_type": "execute_result"
    }
   ],
   "source": [
    "column_summary(df)"
   ]
  },
  {
   "cell_type": "code",
   "execution_count": 9,
   "id": "ad0049ee",
   "metadata": {},
   "outputs": [
    {
     "data": {
      "text/plain": [
       "np.int64(0)"
      ]
     },
     "execution_count": 9,
     "metadata": {},
     "output_type": "execute_result"
    }
   ],
   "source": [
    "df.duplicated().sum()"
   ]
  },
  {
   "cell_type": "markdown",
   "id": "5b516bf1",
   "metadata": {},
   "source": [
    "### Data Cleaning :"
   ]
  },
  {
   "cell_type": "code",
   "execution_count": null,
   "id": "8a476a4d",
   "metadata": {},
   "outputs": [],
   "source": [
    "df['skin_profile'] = (df['skin_type'].astype(str).replace('nan', '') +' concerns: '+ df['concerns'].astype(str).replace('nan', '')).replace(' concerns: ', np.nan)\n",
    "df.drop(['skin_type', 'concerns'], axis=1, inplace=True)"
   ]
  },
  {
   "cell_type": "markdown",
   "id": "db1a5ed0",
   "metadata": {},
   "source": [
    "### Separating Products and Ingredients Data :"
   ]
  },
  {
   "cell_type": "code",
   "execution_count": null,
   "id": "75bbbfd8",
   "metadata": {},
   "outputs": [
    {
     "data": {
      "text/html": [
       "<div>\n",
       "<style scoped>\n",
       "    .dataframe tbody tr th:only-of-type {\n",
       "        vertical-align: middle;\n",
       "    }\n",
       "\n",
       "    .dataframe tbody tr th {\n",
       "        vertical-align: top;\n",
       "    }\n",
       "\n",
       "    .dataframe thead th {\n",
       "        text-align: right;\n",
       "    }\n",
       "</style>\n",
       "<table border=\"1\" class=\"dataframe\">\n",
       "  <thead>\n",
       "    <tr style=\"text-align: right;\">\n",
       "      <th></th>\n",
       "      <th>prod_name</th>\n",
       "      <th>brand_name</th>\n",
       "      <th>ingreds</th>\n",
       "      <th>ratingscore</th>\n",
       "      <th>skin_profile</th>\n",
       "    </tr>\n",
       "  </thead>\n",
       "  <tbody>\n",
       "    <tr>\n",
       "      <th>0</th>\n",
       "      <td>Lip Butter Balm for Hydration &amp; Shine</td>\n",
       "      <td>Summer Fridays</td>\n",
       "      <td>Phytosteryl/Behenyl Dimer Dilinoleate, Diisost...</td>\n",
       "      <td>4.4</td>\n",
       "      <td>concerns: Dryness and Dullness</td>\n",
       "    </tr>\n",
       "    <tr>\n",
       "      <th>1</th>\n",
       "      <td>Watermelon Glow PHA + BHA Pore-Tight Toner</td>\n",
       "      <td>Glow Recipe</td>\n",
       "      <td>Opuntia Ficus-Indica Stem Extract, Citrullus L...</td>\n",
       "      <td>4.3</td>\n",
       "      <td>Normal Dry Combination Oily concerns: Pores, D...</td>\n",
       "    </tr>\n",
       "    <tr>\n",
       "      <th>2</th>\n",
       "      <td>Power Mist Hydrating Hand Sanitizer</td>\n",
       "      <td>Touchland</td>\n",
       "      <td>Alcohol, Deionized/Demineralized Water, Aloe B...</td>\n",
       "      <td>4.2</td>\n",
       "      <td>NaN</td>\n",
       "    </tr>\n",
       "    <tr>\n",
       "      <th>3</th>\n",
       "      <td>Hyaluronic Acid 2% + B5 Hydrating Serum</td>\n",
       "      <td>The Ordinary</td>\n",
       "      <td>Aqua/Water/Eau, Hydrolyzed Sodium Hyaluronate,...</td>\n",
       "      <td>4.5</td>\n",
       "      <td>Normal Dry Combination Oily concerns: Dryness</td>\n",
       "    </tr>\n",
       "    <tr>\n",
       "      <th>4</th>\n",
       "      <td>Lip Sleeping Mask Intense Hydration with Vitam...</td>\n",
       "      <td>LANEIGE</td>\n",
       "      <td>Diisostearyl Malate, Hydrogenated Polyisobuten...</td>\n",
       "      <td>4.3</td>\n",
       "      <td>Normal Dry Combination Oily concerns: Fine Lin...</td>\n",
       "    </tr>\n",
       "  </tbody>\n",
       "</table>\n",
       "</div>"
      ],
      "text/plain": [
       "                                           prod_name      brand_name  \\\n",
       "0              Lip Butter Balm for Hydration & Shine  Summer Fridays   \n",
       "1         Watermelon Glow PHA + BHA Pore-Tight Toner     Glow Recipe   \n",
       "2                Power Mist Hydrating Hand Sanitizer       Touchland   \n",
       "3            Hyaluronic Acid 2% + B5 Hydrating Serum    The Ordinary   \n",
       "4  Lip Sleeping Mask Intense Hydration with Vitam...         LANEIGE   \n",
       "\n",
       "                                             ingreds  ratingscore  \\\n",
       "0  Phytosteryl/Behenyl Dimer Dilinoleate, Diisost...          4.4   \n",
       "1  Opuntia Ficus-Indica Stem Extract, Citrullus L...          4.3   \n",
       "2  Alcohol, Deionized/Demineralized Water, Aloe B...          4.2   \n",
       "3  Aqua/Water/Eau, Hydrolyzed Sodium Hyaluronate,...          4.5   \n",
       "4  Diisostearyl Malate, Hydrogenated Polyisobuten...          4.3   \n",
       "\n",
       "                                        skin_profile  \n",
       "0                     concerns: Dryness and Dullness  \n",
       "1  Normal Dry Combination Oily concerns: Pores, D...  \n",
       "2                                                NaN  \n",
       "3      Normal Dry Combination Oily concerns: Dryness  \n",
       "4  Normal Dry Combination Oily concerns: Fine Lin...  "
      ]
     },
     "execution_count": 4,
     "metadata": {},
     "output_type": "execute_result"
    }
   ],
   "source": [
    "df.head()"
   ]
  },
  {
   "cell_type": "code",
   "execution_count": 6,
   "id": "f2a075e5",
   "metadata": {},
   "outputs": [],
   "source": [
    "import re\n",
    "def clean_text(text):\n",
    "    if not isinstance(text, str):\n",
    "        return \"\"\n",
    "    return re.sub(r'[^a-z0-9\\s]', '', text.lower().strip())"
   ]
  },
  {
   "cell_type": "code",
   "execution_count": 10,
   "id": "12951a3e",
   "metadata": {},
   "outputs": [
    {
     "data": {
      "text/plain": [
       "Index(['prod_name', 'brand_name', 'ingreds', 'ratingscore', 'skin_profile',\n",
       "       'prod_descrp'],\n",
       "      dtype='object')"
      ]
     },
     "execution_count": 10,
     "metadata": {},
     "output_type": "execute_result"
    }
   ],
   "source": [
    "df['prod_descrp'] = df['brand_name'].apply(clean_text) +' '+ df['prod_name'].apply(clean_text)\n",
    "df.columns"
   ]
  },
  {
   "cell_type": "code",
   "execution_count": 23,
   "id": "e93f9624",
   "metadata": {},
   "outputs": [],
   "source": [
    "df['list_of_ingreds'] = df['ingreds'].str.split(\", \")"
   ]
  },
  {
   "cell_type": "code",
   "execution_count": 30,
   "id": "5a37769a",
   "metadata": {},
   "outputs": [],
   "source": [
    "ingreds_data = df.explode('list_of_ingreds').rename(columns={'list_of_ingreds': 'ingred_name'})[['ingred_name', 'ratingscore', 'skin_profile']].sample(113224).reset_index(drop=True)"
   ]
  },
  {
   "cell_type": "code",
   "execution_count": 33,
   "id": "f21b4d19",
   "metadata": {},
   "outputs": [],
   "source": [
    "prods_data = df[['brand_name', 'prod_name', 'prod_descrp', 'list_of_ingreds']]"
   ]
  },
  {
   "cell_type": "code",
   "execution_count": null,
   "id": "f84c0d4f",
   "metadata": {},
   "outputs": [],
   "source": [
    "prods_data['list_of_ingreds'] = prods_data['list_of_ingreds'].apply(lambda x: x.replace('[', '').replace(']', ''))\n",
    "prods_data['list_of_ingreds'] = prods_data['list_of_ingreds'].apply(lambda x: x.replace(\"'\", \"\"))"
   ]
  },
  {
   "cell_type": "code",
   "execution_count": null,
   "id": "82cb9ab5",
   "metadata": {},
   "outputs": [],
   "source": [
    "ingreds_data.to_csv(os.path.join(FOLDER_PATH, 'data', 'ingredients_data.csv'), index=False)\n",
    "prods_data.to_csv(os.path.join(FOLDER_PATH, 'data', 'products_data.csv'), index=False)"
   ]
  },
  {
   "cell_type": "code",
   "execution_count": null,
   "id": "902bd1ec",
   "metadata": {},
   "outputs": [],
   "source": []
  }
 ],
 "metadata": {
  "kernelspec": {
   "display_name": "SkinCare Match Finder",
   "language": "python",
   "name": "python3"
  },
  "language_info": {
   "codemirror_mode": {
    "name": "ipython",
    "version": 3
   },
   "file_extension": ".py",
   "mimetype": "text/x-python",
   "name": "python",
   "nbconvert_exporter": "python",
   "pygments_lexer": "ipython3",
   "version": "3.10.7"
  }
 },
 "nbformat": 4,
 "nbformat_minor": 5
}
