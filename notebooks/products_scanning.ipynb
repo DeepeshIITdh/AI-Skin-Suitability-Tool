{
 "cells": [
  {
   "cell_type": "markdown",
   "id": "37d64a28",
   "metadata": {},
   "source": [
    "### From API :"
   ]
  },
  {
   "cell_type": "code",
   "execution_count": 2,
   "id": "b2db0d19",
   "metadata": {},
   "outputs": [],
   "source": [
    "import requests\n",
    "\n",
    "#API Ninjas OCR\n",
    "def call_ocr_api(image_path, api_key):\n",
    "    with open(image_path, 'rb') as img_file:\n",
    "        files = {'image': img_file}\n",
    "        response = requests.post(\n",
    "            'https://api.api-ninjas.com/v1/imagetotext',\n",
    "            files=files,\n",
    "            headers={'X-Api-Key': api_key}\n",
    "        )\n",
    "    if response.status_code == 200:\n",
    "        return response.json()\n",
    "    else:\n",
    "        print(\"Error:\", response.status_code, response.text)\n",
    "        return []\n",
    "\n",
    "def extract_ingredients(ocr_result):\n",
    "    ingredients = []\n",
    "    found = False\n",
    "\n",
    "    for item in ocr_result:\n",
    "        text = item['text'].strip().upper()\n",
    "\n",
    "        if not found:\n",
    "            if \"INGREDIENTS\" in text:\n",
    "                found = True\n",
    "            continue\n",
    "\n",
    "        if found:\n",
    "            if any(end_word in text for end_word in [\"MADE\", \"MFG\", \"CONTACT\", \"UNILEVER\", \"USE\", \"STORAGE\", \"NET\", \"MRP\"]):\n",
    "                break\n",
    "            # Split by comma and add each separately\n",
    "            parts = [i.strip(\",.:- \\n\") for i in text.split(',')]\n",
    "            ingredients.extend([i for i in parts if i])\n",
    "\n",
    "    return ingredients\n",
    "\n",
    "def scan_product(image_path, api_key):\n",
    "    ocr_result = call_ocr_api(image_path, api_key)\n",
    "    ingredients = extract_ingredients(ocr_result)\n",
    "    return ingredients"
   ]
  },
  {
   "cell_type": "markdown",
   "id": "ef9de5a6",
   "metadata": {},
   "source": [
    "### From OCR :"
   ]
  },
  {
   "cell_type": "code",
   "execution_count": 3,
   "id": "78bb964a",
   "metadata": {},
   "outputs": [
    {
     "name": "stderr",
     "output_type": "stream",
     "text": [
      "Neither CUDA nor MPS are available - defaulting to CPU. Note: This module is much faster with a GPU.\n"
     ]
    }
   ],
   "source": [
    "import easyocr\n",
    "reader = easyocr.Reader(['en'])  # 'en' = English"
   ]
  },
  {
   "cell_type": "markdown",
   "id": "8f506dcb",
   "metadata": {},
   "source": [
    "### Scanning :"
   ]
  },
  {
   "cell_type": "code",
   "execution_count": 4,
   "id": "5c9391f6",
   "metadata": {},
   "outputs": [
    {
     "name": "stderr",
     "output_type": "stream",
     "text": [
      "c:\\Users\\Admin\\Documents\\Coding DOCS\\Projects\\Workspace\\SkinCare Match Finder\\.venv\\lib\\site-packages\\torch\\utils\\data\\dataloader.py:665: UserWarning: 'pin_memory' argument is set as true but no accelerator is found, then device pinned memory won't be used.\n",
      "  warnings.warn(warn_msg)\n"
     ]
    },
    {
     "name": "stdout",
     "output_type": "stream",
     "text": [
      "[]\n",
      "['SW |SS', 'BEAuTh', 'ALL-IN-ONE', 'CC', 'CREAM', 'cover', 'correct', 'conceal', 'with SPF 30']\n"
     ]
    }
   ],
   "source": [
    "image_path = \"images/prod_image_2.jpg\"\n",
    "api_key = 'ajulUKZUgVx74AjB3cnnvg==icMkUt83wVfLRqb3'\n",
    "\n",
    "ingredients = scan_product(image_path, api_key)  # API\n",
    "results = reader.readtext(image_path)            # OCR\n",
    "\n",
    "print(ingredients)\n",
    "output = []\n",
    "for detection in results:\n",
    "    output.append(detection[1])\n",
    "\n",
    "print(output)"
   ]
  },
  {
   "cell_type": "code",
   "execution_count": 6,
   "id": "7534217a",
   "metadata": {},
   "outputs": [
    {
     "name": "stdout",
     "output_type": "stream",
     "text": [
      "Error: 400 {\"error\": \"Free tier users can only process images up to 200KB. Please upgrade to a premium subscription for larger images.\"}\n"
     ]
    },
    {
     "name": "stderr",
     "output_type": "stream",
     "text": [
      "c:\\Users\\Admin\\Documents\\Coding DOCS\\Projects\\Workspace\\SkinCare Match Finder\\.venv\\lib\\site-packages\\torch\\utils\\data\\dataloader.py:665: UserWarning: 'pin_memory' argument is set as true but no accelerator is found, then device pinned memory won't be used.\n",
      "  warnings.warn(warn_msg)\n"
     ]
    },
    {
     "name": "stdout",
     "output_type": "stream",
     "text": [
      "[]\n",
      "['INGREDIENTS: WATERIAQUAIEAU-GLYCERIN- SODIUM METHYL CO-', 'COYLTAURATE- BUTYLENE GLYCOL:SUCROSE- SALICYLIC ACID.', 'CAFFEINE : ACETYL GLUCOSAMINE: LAMINARIA SACCHARINA EX-', 'TRACT - ARGININE COCOATE- GENTIANA LUTEA (GENTIAN) ROOT', 'EXTRACT -PEG/PPG-18/18 DIMETHICONE: LAMINARIA DIGITATA EX-', 'TRACT - SODIUM HYALURONATE: PPG-6-DECYLTETRADECETH-30:', 'CITRIC ACID-POLYQUATERNIUM', '7-Dl-C12-18 ALKYL DIMONIUM', 'CHLORIDE. DISODIUM', 'PHOSPHATE- SODIUM   HYDROXIDE- DISO-', 'DIUM EDTA- SODIUM BENZOATE- PHENOXYETHANOL : CHLOROXY-', 'LENOL [ILN50436]']\n"
     ]
    }
   ],
   "source": [
    "image_path = \"images/ingred_image_1.png\"\n",
    "api_key = 'ajulUKZUgVx74AjB3cnnvg==icMkUt83wVfLRqb3'\n",
    "\n",
    "ingredients = scan_product(image_path, api_key)  # API\n",
    "results = reader.readtext(image_path)            # OCR\n",
    "\n",
    "print(ingredients)\n",
    "output = []\n",
    "for detection in results:\n",
    "    output.append(detection[1])\n",
    "\n",
    "print(output)"
   ]
  },
  {
   "cell_type": "markdown",
   "id": "889101c3",
   "metadata": {},
   "source": [
    "#### OCR is performing good in both cases then we should use OCR only"
   ]
  },
  {
   "cell_type": "markdown",
   "id": "b6ce326c",
   "metadata": {},
   "source": []
  }
 ],
 "metadata": {
  "kernelspec": {
   "display_name": "SkinCare Match Finder",
   "language": "python",
   "name": "python3"
  },
  "language_info": {
   "codemirror_mode": {
    "name": "ipython",
    "version": 3
   },
   "file_extension": ".py",
   "mimetype": "text/x-python",
   "name": "python",
   "nbconvert_exporter": "python",
   "pygments_lexer": "ipython3",
   "version": "3.10.7"
  }
 },
 "nbformat": 4,
 "nbformat_minor": 5
}
