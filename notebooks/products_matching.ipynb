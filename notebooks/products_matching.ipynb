{
 "cells": [
  {
   "cell_type": "code",
   "execution_count": null,
   "id": "1a42d78e",
   "metadata": {},
   "outputs": [],
   "source": [
    "import pandas as pd\n",
    "from rapidfuzz import process, fuzz\n",
    "import re\n",
    "import os\n",
    "\n",
    "from dotenv import load_dotenv\n",
    "load_dotenv()\n",
    "FOLDER_PATH = os.getenv(\"FOLDER_PATH\")\n",
    "\n",
    "if not FOLDER_PATH:\n",
    "    raise ValueError(\"FOLDER_PATH not set in .env file!\")"
   ]
  },
  {
   "cell_type": "code",
   "execution_count": 27,
   "id": "3bf776ac",
   "metadata": {},
   "outputs": [],
   "source": [
    "prods_data = pd.read_csv(os.path.join(FOLDER_PATH, \"data\", \"products_data.csv\"))\n",
    "ingreds_data = pd.read_csv(os.path.join(FOLDER_PATH, \"data\", \"ingredients_data.csv\"))"
   ]
  },
  {
   "cell_type": "code",
   "execution_count": 4,
   "id": "e7bf280c",
   "metadata": {},
   "outputs": [],
   "source": [
    "def clean_text(text):\n",
    "    if not isinstance(text, str):\n",
    "        return \"\"\n",
    "    return re.sub(r'[^a-z0-9\\s]', '', text.lower().strip())"
   ]
  },
  {
   "cell_type": "markdown",
   "id": "361122bd",
   "metadata": {},
   "source": [
    "### Product Name Matching"
   ]
  },
  {
   "cell_type": "code",
   "execution_count": 5,
   "id": "d5592dbf",
   "metadata": {},
   "outputs": [
    {
     "name": "stdout",
     "output_type": "stream",
     "text": [
      "sw ss beauth allinone cc cream cover correct conceal with spf 30\n"
     ]
    }
   ],
   "source": [
    "output = ['SW |SS', 'BEAuTh', 'ALL-IN-ONE', 'CC', 'CREAM', 'cover', 'correct', 'conceal', 'with SPF 30']\n",
    "output_text = ' '.join(output).lower()\n",
    "\n",
    "output_text = clean_text(output_text)\n",
    "print(output_text)"
   ]
  },
  {
   "cell_type": "code",
   "execution_count": 28,
   "id": "28240e1e",
   "metadata": {},
   "outputs": [
    {
     "data": {
      "text/html": [
       "<div>\n",
       "<style scoped>\n",
       "    .dataframe tbody tr th:only-of-type {\n",
       "        vertical-align: middle;\n",
       "    }\n",
       "\n",
       "    .dataframe tbody tr th {\n",
       "        vertical-align: top;\n",
       "    }\n",
       "\n",
       "    .dataframe thead th {\n",
       "        text-align: right;\n",
       "    }\n",
       "</style>\n",
       "<table border=\"1\" class=\"dataframe\">\n",
       "  <thead>\n",
       "    <tr style=\"text-align: right;\">\n",
       "      <th></th>\n",
       "      <th>brand_name</th>\n",
       "      <th>prod_name</th>\n",
       "      <th>prod_descrp</th>\n",
       "      <th>list_of_ingreds</th>\n",
       "    </tr>\n",
       "  </thead>\n",
       "  <tbody>\n",
       "    <tr>\n",
       "      <th>0</th>\n",
       "      <td>Summer Fridays</td>\n",
       "      <td>Lip Butter Balm for Hydration &amp; Shine</td>\n",
       "      <td>summer fridays lip butter balm for hydration  ...</td>\n",
       "      <td>Phytosteryl/Behenyl Dimer Dilinoleate, Diisost...</td>\n",
       "    </tr>\n",
       "    <tr>\n",
       "      <th>1</th>\n",
       "      <td>Glow Recipe</td>\n",
       "      <td>Watermelon Glow PHA + BHA Pore-Tight Toner</td>\n",
       "      <td>glow recipe watermelon glow pha  bha poretight...</td>\n",
       "      <td>Opuntia Ficus-Indica Stem Extract, Citrullus L...</td>\n",
       "    </tr>\n",
       "    <tr>\n",
       "      <th>2</th>\n",
       "      <td>Touchland</td>\n",
       "      <td>Power Mist Hydrating Hand Sanitizer</td>\n",
       "      <td>touchland power mist hydrating hand sanitizer</td>\n",
       "      <td>Alcohol, Deionized/Demineralized Water, Aloe B...</td>\n",
       "    </tr>\n",
       "    <tr>\n",
       "      <th>3</th>\n",
       "      <td>The Ordinary</td>\n",
       "      <td>Hyaluronic Acid 2% + B5 Hydrating Serum</td>\n",
       "      <td>the ordinary hyaluronic acid 2  b5 hydrating s...</td>\n",
       "      <td>Aqua/Water/Eau, Hydrolyzed Sodium Hyaluronate,...</td>\n",
       "    </tr>\n",
       "    <tr>\n",
       "      <th>4</th>\n",
       "      <td>LANEIGE</td>\n",
       "      <td>Lip Sleeping Mask Intense Hydration with Vitam...</td>\n",
       "      <td>laneige lip sleeping mask intense hydration wi...</td>\n",
       "      <td>Diisostearyl Malate, Hydrogenated Polyisobuten...</td>\n",
       "    </tr>\n",
       "  </tbody>\n",
       "</table>\n",
       "</div>"
      ],
      "text/plain": [
       "       brand_name                                          prod_name  \\\n",
       "0  Summer Fridays              Lip Butter Balm for Hydration & Shine   \n",
       "1     Glow Recipe         Watermelon Glow PHA + BHA Pore-Tight Toner   \n",
       "2       Touchland                Power Mist Hydrating Hand Sanitizer   \n",
       "3    The Ordinary            Hyaluronic Acid 2% + B5 Hydrating Serum   \n",
       "4         LANEIGE  Lip Sleeping Mask Intense Hydration with Vitam...   \n",
       "\n",
       "                                         prod_descrp  \\\n",
       "0  summer fridays lip butter balm for hydration  ...   \n",
       "1  glow recipe watermelon glow pha  bha poretight...   \n",
       "2      touchland power mist hydrating hand sanitizer   \n",
       "3  the ordinary hyaluronic acid 2  b5 hydrating s...   \n",
       "4  laneige lip sleeping mask intense hydration wi...   \n",
       "\n",
       "                                     list_of_ingreds  \n",
       "0  Phytosteryl/Behenyl Dimer Dilinoleate, Diisost...  \n",
       "1  Opuntia Ficus-Indica Stem Extract, Citrullus L...  \n",
       "2  Alcohol, Deionized/Demineralized Water, Aloe B...  \n",
       "3  Aqua/Water/Eau, Hydrolyzed Sodium Hyaluronate,...  \n",
       "4  Diisostearyl Malate, Hydrogenated Polyisobuten...  "
      ]
     },
     "execution_count": 28,
     "metadata": {},
     "output_type": "execute_result"
    }
   ],
   "source": [
    "prods_data.head()"
   ]
  },
  {
   "cell_type": "code",
   "execution_count": 29,
   "id": "dd28e114",
   "metadata": {},
   "outputs": [],
   "source": [
    "# Products Knowledge Base\n",
    "prods_choices = [clean_text(p) for p in prods_data['prod_descrp'].tolist()]"
   ]
  },
  {
   "cell_type": "code",
   "execution_count": null,
   "id": "4e59cbed",
   "metadata": {},
   "outputs": [],
   "source": [
    "# Match product name (for image with name/tagline)\n",
    "def match_product_name(output_text, knowledge_base):\n",
    "    cleaned_output = clean_text(output_text)\n",
    "    _, score, idx = process.extractOne(cleaned_output, knowledge_base, scorer=fuzz.token_sort_ratio)\n",
    "    return prods_data.iloc[idx], score"
   ]
  },
  {
   "cell_type": "code",
   "execution_count": null,
   "id": "e087b242",
   "metadata": {},
   "outputs": [
    {
     "name": "stdout",
     "output_type": "stream",
     "text": [
      "Matched Product Name: it cosmetics your skin but better cc cream with spf 50\n",
      "List of Ingredients: ['Water', 'Snail Secretion Filtrate', 'Phenyl Trimethicone', 'Dimethicone', 'Butylene Glycol', 'Butylene Glycol Dicaprylate/Dicaprate', 'Orbignya Oleifera Seed Oil', 'Butyloctyl Salicylate', 'Cetyl Peg/Ppg-10/1 Dimethicone', 'Cyclopentasiloxane', 'Cyclohexasiloxane', 'Magnesium Sulfate', 'Polyglyceryl-4 Isostearate', 'Dimethicone/Vinyl Dimethicone Crosspolymer', 'Aluminum Hydroxide', 'Hexyl Laurate', 'Stearic Acid', 'Calcium Stearate', 'Caprylyl Glycol', 'Triethoxycaprylylsilane', 'Ethylhexylglycerin', 'Citrus Medica Limonum (Lemon) Peel Oil', 'Tocopheryl Acetate', 'Sorbitan Isostearate', 'Phenoxyethanol', 'Citrus Aurantium Bergamia (Bergamot) Fruit Oil', '1,2-Hexanediol', 'Disodium Edta', 'Citrus Aurantium Dulcis (Orange) Peel Oil', 'Citrus Aurantifolia (Lime) Oil', 'Vitis Vinifera (Grape) Seed Oil', 'Punica Granatum Seed Oil', 'Pinus Sylvestris Leaf Oil', 'Persea Gratissima (Avocado) Oil', 'Niacinamide', 'Citrus Grandis (Grapefruit) Peel Oil', 'Cholesterol', 'Anthemis Nobilis Flower Water', 'Lactobacillus/Honeysuckle Flower/Licorice Root/Morus Alba Root/Pueraria Lobata Root/Schizandra Chinensis Fruit/Scutellaria Baicalensis Root/Sophora Japonica Flower Extract Ferment Filtrate', 'Perfluorohexane', 'Olea Europaea (Olive) Leaf Extract', 'Glycerin', 'Eucalyptus Globulus Leaf Oil', 'Camellia Sinensis Leaf Extract', 'Chrysanthemum Indicum Flower Extract', 'Pueraria Lobata Root Extract', 'Perfluorodecalin', 'Morus Alba Fruit Extract', 'Magnolia Kobus Bark Extract', 'Glycine Soja (Soybean) Sprout Extract', 'Diospyros Kaki Leaf Extract', 'Cinnamomum Cassia Bark Extract', 'Artemisia Princeps Leaf Extract', 'Pentafluoropropane', 'Curcuma Longa (Turmeric) Root Extract', 'Steareth-20', 'Hydrolyzed Hyaluronic Acid', 'Colloidal Oatmeal', 'Hydrolyzed Silk', 'Citric Acid', 'Sodium Benzoate', 'Potassium Sorbate', 'Aloe Barbadensis Leaf Extract', 'N-Hydroxysuccinimide', 'Hydrolyzed Collagen', 'Caprylhydroxamic Acid', 'Tocopherol', 'Thiamine Hcl', 'Riboflavin', 'Retinyl Palmitate', 'Pantothenic Acid', 'Palmitoyl Oligopeptide', 'Niacin', 'Folic Acid', 'Chrysin', 'Carnitine Hcl', 'Biotin', 'Ascorbic Acid', 'Palmitoyl Tetrapeptide-7', 'Chlorhexidine Digluconate. May Contain: Iron Oxides (Ci 77492', 'Ci 77491', 'Ci 77499).']\n",
      "Score: 54.23728813559322\n"
     ]
    }
   ],
   "source": [
    "# For product name image\n",
    "product_match, score = match_product_name(output_text, prods_choices)\n",
    "print(\"Matched Product Name:\", product_match)\n",
    "print(\"Score:\", score)"
   ]
  },
  {
   "cell_type": "code",
   "execution_count": null,
   "id": "2a702bf1",
   "metadata": {},
   "outputs": [],
   "source": [
    "output_ingreds = product_match['list_of_ingreds'][:10]"
   ]
  },
  {
   "cell_type": "markdown",
   "id": "19ab6e3a",
   "metadata": {},
   "source": [
    "### Ingredients Matching"
   ]
  },
  {
   "cell_type": "code",
   "execution_count": 45,
   "id": "4b64f762",
   "metadata": {},
   "outputs": [],
   "source": [
    "output = ['INGREDIENTS: WATERIAQUAIEAU-GLYCERIN- SODIUM METHYL CO-', 'COYLTAURATE- BUTYLENE GLYCOL:SUCROSE- SALICYLIC ACID.', 'CAFFEINE : ACETYL GLUCOSAMINE: LAMINARIA SACCHARINA EX-', 'TRACT - ARGININE COCOATE- GENTIANA LUTEA (GENTIAN) ROOT', 'EXTRACT -PEG/PPG-18/18 DIMETHICONE: LAMINARIA DIGITATA EX-', 'TRACT - SODIUM HYALURONATE: PPG-6-DECYLTETRADECETH-30:', 'CITRIC ACID-POLYQUATERNIUM', '7-Dl-C12-18 ALKYL DIMONIUM', 'CHLORIDE. DISODIUM', 'PHOSPHATE- SODIUM   HYDROXIDE- DISO-', 'DIUM EDTA- SODIUM BENZOATE- PHENOXYETHANOL : CHLOROXY-', 'LENOL [ILN50436]']"
   ]
  },
  {
   "cell_type": "code",
   "execution_count": 39,
   "id": "9c636141",
   "metadata": {},
   "outputs": [],
   "source": [
    "# Ingredients Knowledge Base\n",
    "ingreds_choices = [clean_text(i) for i in ingreds_data['ingred_name'].tolist()]"
   ]
  },
  {
   "cell_type": "code",
   "execution_count": null,
   "id": "f0b9aca7",
   "metadata": {},
   "outputs": [],
   "source": [
    "def match_ingredients(extracted_ingreds, knowledge_base):\n",
    "    matched_rows = []\n",
    "\n",
    "    if len(extracted_ingreds) > 20:\n",
    "        extracted_ingreds = extracted_ingreds[:20]\n",
    "\n",
    "    for ing in extracted_ingreds:\n",
    "        clean_ing = clean_text(ing)\n",
    "        _, score, idx = process.extractOne(clean_ing, knowledge_base, scorer=fuzz.token_sort_ratio)\n",
    "        if score > 50:\n",
    "            matched_rows.append((idx, score))\n",
    "\n",
    "    return sorted(matched_rows, key=lambda x: x[1], reverse=True)"
   ]
  },
  {
   "cell_type": "code",
   "execution_count": 78,
   "id": "69ac5cc0",
   "metadata": {},
   "outputs": [
    {
     "name": "stdout",
     "output_type": "stream",
     "text": [
      "Matched Products by Ingredients:\n",
      " [(423, 93.75), (7322, 72.94117647058825), (64200, 71.7948717948718), (704, 71.42857142857143), (1079, 66.66666666666667), (7868, 63.76811594202898), (629, 63.29113924050633), (77313, 61.1764705882353), (10019, 58.82352941176471), (37592, 56.310679611650485), (3331, 55.55555555555556)]\n"
     ]
    }
   ],
   "source": [
    "# For ingredients image\n",
    "ingreds_matches_idx = match_ingredient_product(output, ingreds_choices)\n",
    "print(\"Matched Products by Ingredients:\\n\", ingreds_matches_idx)"
   ]
  },
  {
   "cell_type": "code",
   "execution_count": 79,
   "id": "af13657c",
   "metadata": {},
   "outputs": [
    {
     "data": {
      "text/html": [
       "<div>\n",
       "<style scoped>\n",
       "    .dataframe tbody tr th:only-of-type {\n",
       "        vertical-align: middle;\n",
       "    }\n",
       "\n",
       "    .dataframe tbody tr th {\n",
       "        vertical-align: top;\n",
       "    }\n",
       "\n",
       "    .dataframe thead th {\n",
       "        text-align: right;\n",
       "    }\n",
       "</style>\n",
       "<table border=\"1\" class=\"dataframe\">\n",
       "  <thead>\n",
       "    <tr style=\"text-align: right;\">\n",
       "      <th></th>\n",
       "      <th>ingred_name</th>\n",
       "      <th>ratingscore</th>\n",
       "      <th>skin_profile</th>\n",
       "    </tr>\n",
       "  </thead>\n",
       "  <tbody>\n",
       "    <tr>\n",
       "      <th>423</th>\n",
       "      <td>Sodium Chloride</td>\n",
       "      <td>3.9</td>\n",
       "      <td>Normal Dry Combination Oily concerns: Fine Lin...</td>\n",
       "    </tr>\n",
       "    <tr>\n",
       "      <th>7322</th>\n",
       "      <td>Gentiana Lutea (Gentian) Root Extract</td>\n",
       "      <td>4.6</td>\n",
       "      <td>Normal Dry Oily Combination concerns: Dryness ...</td>\n",
       "    </tr>\n",
       "    <tr>\n",
       "      <th>64200</th>\n",
       "      <td>polyquaternium</td>\n",
       "      <td>4.1</td>\n",
       "      <td>Normal Dry Combination Oily Sensitive concerns:</td>\n",
       "    </tr>\n",
       "    <tr>\n",
       "      <th>704</th>\n",
       "      <td>Sodium Ascorbyl Phosphate</td>\n",
       "      <td>4.6</td>\n",
       "      <td>NaN</td>\n",
       "    </tr>\n",
       "    <tr>\n",
       "      <th>1079</th>\n",
       "      <td>Laminaria Digitata Extract</td>\n",
       "      <td>4.5</td>\n",
       "      <td>Normal Dry Combination Oily concerns:</td>\n",
       "    </tr>\n",
       "    <tr>\n",
       "      <th>7868</th>\n",
       "      <td>Ppg-6-Decyltetradeceth-30</td>\n",
       "      <td>0.0</td>\n",
       "      <td>NaN</td>\n",
       "    </tr>\n",
       "    <tr>\n",
       "      <th>629</th>\n",
       "      <td>Laminaria Saccharina Extract</td>\n",
       "      <td>4.2</td>\n",
       "      <td>NaN</td>\n",
       "    </tr>\n",
       "    <tr>\n",
       "      <th>77313</th>\n",
       "      <td>Phenoxyethanol (Source Aromatic Ether)</td>\n",
       "      <td>4.0</td>\n",
       "      <td>NaN</td>\n",
       "    </tr>\n",
       "    <tr>\n",
       "      <th>10019</th>\n",
       "      <td>Butylene Glycol Dicaprylate/Dicaprate</td>\n",
       "      <td>4.5</td>\n",
       "      <td>NaN</td>\n",
       "    </tr>\n",
       "    <tr>\n",
       "      <th>37592</th>\n",
       "      <td>Sodium Benzoate. Pineapple Face Mask:INGREDIEN...</td>\n",
       "      <td>5.0</td>\n",
       "      <td>Normal Dry Combination Oily Sensitive concerns:</td>\n",
       "    </tr>\n",
       "    <tr>\n",
       "      <th>3331</th>\n",
       "      <td>Di-C12-18 Alkyl Dimonium Chloride</td>\n",
       "      <td>4.0</td>\n",
       "      <td>Normal Dry Combination Oily Sensitive concerns:</td>\n",
       "    </tr>\n",
       "  </tbody>\n",
       "</table>\n",
       "</div>"
      ],
      "text/plain": [
       "                                             ingred_name  ratingscore  \\\n",
       "423                                      Sodium Chloride          3.9   \n",
       "7322               Gentiana Lutea (Gentian) Root Extract          4.6   \n",
       "64200                                     polyquaternium          4.1   \n",
       "704                            Sodium Ascorbyl Phosphate          4.6   \n",
       "1079                          Laminaria Digitata Extract          4.5   \n",
       "7868                          Ppg-6-Decyltetradeceth-30           0.0   \n",
       "629                         Laminaria Saccharina Extract          4.2   \n",
       "77313             Phenoxyethanol (Source Aromatic Ether)          4.0   \n",
       "10019              Butylene Glycol Dicaprylate/Dicaprate          4.5   \n",
       "37592  Sodium Benzoate. Pineapple Face Mask:INGREDIEN...          5.0   \n",
       "3331                  Di-C12-18 Alkyl Dimonium Chloride           4.0   \n",
       "\n",
       "                                            skin_profile  \n",
       "423    Normal Dry Combination Oily concerns: Fine Lin...  \n",
       "7322   Normal Dry Oily Combination concerns: Dryness ...  \n",
       "64200   Normal Dry Combination Oily Sensitive concerns:   \n",
       "704                                                  NaN  \n",
       "1079              Normal Dry Combination Oily concerns:   \n",
       "7868                                                 NaN  \n",
       "629                                                  NaN  \n",
       "77313                                                NaN  \n",
       "10019                                                NaN  \n",
       "37592   Normal Dry Combination Oily Sensitive concerns:   \n",
       "3331    Normal Dry Combination Oily Sensitive concerns:   "
      ]
     },
     "execution_count": 79,
     "metadata": {},
     "output_type": "execute_result"
    }
   ],
   "source": [
    "ingreds_data.iloc[[idx[0] for idx in ingreds_matches_idx]]"
   ]
  },
  {
   "cell_type": "code",
   "execution_count": 59,
   "id": "23da2503",
   "metadata": {},
   "outputs": [
    {
     "data": {
      "text/plain": [
       "['INGREDIENTS: WATERIAQUAIEAU-GLYCERIN- SODIUM METHYL CO-',\n",
       " 'COYLTAURATE- BUTYLENE GLYCOL:SUCROSE- SALICYLIC ACID.',\n",
       " 'CAFFEINE : ACETYL GLUCOSAMINE: LAMINARIA SACCHARINA EX-',\n",
       " 'TRACT - ARGININE COCOATE- GENTIANA LUTEA (GENTIAN) ROOT',\n",
       " 'EXTRACT -PEG/PPG-18/18 DIMETHICONE: LAMINARIA DIGITATA EX-',\n",
       " 'TRACT - SODIUM HYALURONATE: PPG-6-DECYLTETRADECETH-30:',\n",
       " 'CITRIC ACID-POLYQUATERNIUM',\n",
       " '7-Dl-C12-18 ALKYL DIMONIUM',\n",
       " 'CHLORIDE. DISODIUM',\n",
       " 'PHOSPHATE- SODIUM   HYDROXIDE- DISO-']"
      ]
     },
     "execution_count": 59,
     "metadata": {},
     "output_type": "execute_result"
    }
   ],
   "source": [
    "output[:10]"
   ]
  },
  {
   "cell_type": "code",
   "execution_count": null,
   "id": "28a28be7",
   "metadata": {},
   "outputs": [],
   "source": []
  }
 ],
 "metadata": {
  "kernelspec": {
   "display_name": "AI Skin Suitability Tool",
   "language": "python",
   "name": "python3"
  },
  "language_info": {
   "codemirror_mode": {
    "name": "ipython",
    "version": 3
   },
   "file_extension": ".py",
   "mimetype": "text/x-python",
   "name": "python",
   "nbconvert_exporter": "python",
   "pygments_lexer": "ipython3",
   "version": "3.10.7"
  }
 },
 "nbformat": 4,
 "nbformat_minor": 5
}
