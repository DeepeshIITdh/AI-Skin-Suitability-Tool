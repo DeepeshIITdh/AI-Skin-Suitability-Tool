{
 "cells": [
  {
   "cell_type": "code",
   "execution_count": 2,
   "id": "ee13adcc",
   "metadata": {},
   "outputs": [],
   "source": [
    "from tensorflow.keras.models import load_model\n",
    "from tensorflow.keras.preprocessing import image\n",
    "import numpy as np"
   ]
  },
  {
   "cell_type": "code",
   "execution_count": null,
   "id": "1ee6388a",
   "metadata": {},
   "outputs": [
    {
     "name": "stderr",
     "output_type": "stream",
     "text": [
      "WARNING:absl:Compiled the loaded model, but the compiled metrics have yet to be built. `model.compile_metrics` will be empty until you train or evaluate the model.\n",
      "WARNING:absl:Compiled the loaded model, but the compiled metrics have yet to be built. `model.compile_metrics` will be empty until you train or evaluate the model.\n"
     ]
    }
   ],
   "source": [
    "import os\n",
    "\n",
    "# Example mappings (adjust according to your actual class_indices)\n",
    "skin_concern_classes = {0: 'acne', 1: 'blackheads', 2: 'redness'}\n",
    "skin_type_classes = {0: 'oily', 1: 'dry', 2: 'normal', 3: 'sensitive', 4: 'combination'}\n",
    "\n",
    "from dotenv import load_dotenv\n",
    "load_dotenv()\n",
    "FOLDER_PATH = os.getenv(\"FOLDER_PATH\")\n",
    "\n",
    "if not FOLDER_PATH:\n",
    "    raise ValueError(\"FOLDER_PATH not set in .env file!\")\n",
    "\n",
    "skin_concern_model = load_model(os.path.join(FOLDER_PATH, 'models', 'skin_concern_classifier_PT.h5'))\n",
    "skin_type_model = load_model(os.path.join(FOLDER_PATH, 'models', 'skin_type_classifier_PT.h5'))\n",
    "\n",
    "def preprocess_image(img_path, target_size):\n",
    "    img = image.load_img(img_path, target_size=target_size)\n",
    "    img_array = image.img_to_array(img) / 255.0\n",
    "    img_array = np.expand_dims(img_array, axis=0)\n",
    "    return img_array\n",
    "\n",
    "def predict_skin_profile_dual_input(\n",
    "    img_path,\n",
    "    concern_model, concern_input_size, concern_classes,\n",
    "    type_model, type_input_size, type_classes\n",
    "):\n",
    "    # Preprocess for each model's input size\n",
    "    concern_img = preprocess_image(img_path, concern_input_size)\n",
    "    type_img = preprocess_image(img_path, type_input_size)\n",
    "\n",
    "    # Predict skin concern\n",
    "    concern_probs = concern_model.predict(concern_img)\n",
    "    concern_index = np.argmax(concern_probs)\n",
    "    concern_confidence = float(np.max(concern_probs))\n",
    "    predicted_concern = concern_classes[concern_index]\n",
    "\n",
    "    # Predict skin type\n",
    "    type_probs = type_model.predict(type_img)\n",
    "    type_index = np.argmax(type_probs)\n",
    "    type_confidence = float(np.max(type_probs))\n",
    "    predicted_type = type_classes[type_index]\n",
    "\n",
    "    return {\n",
    "        \"skin_concern\": {\n",
    "            \"class\": predicted_concern,\n",
    "            \"confidence\": concern_confidence\n",
    "        },\n",
    "        \"skin_type\": {\n",
    "            \"class\": predicted_type,\n",
    "            \"confidence\": type_confidence\n",
    "        }\n",
    "    }"
   ]
  },
  {
   "cell_type": "code",
   "execution_count": 12,
   "id": "4c83a23a",
   "metadata": {},
   "outputs": [
    {
     "name": "stdout",
     "output_type": "stream",
     "text": [
      "\u001b[1m1/1\u001b[0m \u001b[32m━━━━━━━━━━━━━━━━━━━━\u001b[0m\u001b[37m\u001b[0m \u001b[1m1s\u001b[0m 701ms/step\n",
      "\u001b[1m1/1\u001b[0m \u001b[32m━━━━━━━━━━━━━━━━━━━━\u001b[0m\u001b[37m\u001b[0m \u001b[1m2s\u001b[0m 2s/step\n",
      "Skin Concern: redness (0.64)\n",
      "Skin Type: dry (0.67)\n"
     ]
    }
   ],
   "source": [
    "result = predict_skin_profile_dual_input(\n",
    "    img_path=\"images/face_image_1.jpg\",\n",
    "    concern_model=skin_concern_model,\n",
    "    concern_input_size=(128, 128),\n",
    "    concern_classes=skin_concern_classes,\n",
    "    type_model=skin_type_model,\n",
    "    type_input_size=(150, 150),\n",
    "    type_classes=skin_type_classes\n",
    ")\n",
    "\n",
    "print(f\"Skin Concern: {result['skin_concern']['class']} ({result['skin_concern']['confidence']:.2f})\")\n",
    "print(f\"Skin Type: {result['skin_type']['class']} ({result['skin_type']['confidence']:.2f})\")"
   ]
  },
  {
   "cell_type": "code",
   "execution_count": null,
   "id": "ffeb0d46",
   "metadata": {},
   "outputs": [],
   "source": []
  }
 ],
 "metadata": {
  "kernelspec": {
   "display_name": "SkinCare Match Finder",
   "language": "python",
   "name": "python3"
  },
  "language_info": {
   "codemirror_mode": {
    "name": "ipython",
    "version": 3
   },
   "file_extension": ".py",
   "mimetype": "text/x-python",
   "name": "python",
   "nbconvert_exporter": "python",
   "pygments_lexer": "ipython3",
   "version": "3.10.7"
  }
 },
 "nbformat": 4,
 "nbformat_minor": 5
}
